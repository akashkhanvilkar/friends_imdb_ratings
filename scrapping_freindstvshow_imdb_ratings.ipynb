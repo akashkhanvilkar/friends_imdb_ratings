{
 "cells": [
  {
   "cell_type": "code",
   "execution_count": 10,
   "metadata": {},
   "outputs": [],
   "source": [
    "from bs4 import BeautifulSoup\n",
    "from requests import get\n",
    "friends_episodes = []"
   ]
  },
  {
   "cell_type": "code",
   "execution_count": 11,
   "metadata": {},
   "outputs": [],
   "source": [
    "for s in range(1,11):\n",
    "    response = get('https://www.imdb.com/title/tt0108778/episodes?season=' + str(s))\n",
    "    html_soup = BeautifulSoup(response.text, 'html.parser')\n",
    "    episode_containers = html_soup.find_all('div', class_ ='info')\n",
    "    \n",
    "    for episode in episode_containers:\n",
    "        season = s\n",
    "        episode_number = episode.meta['content']\n",
    "        title = episode.a['title']\n",
    "        airdate = episode.find('div', class_='airdate').text.strip()\n",
    "        rating = episode.find('span', class_='ipl-rating-star__rating').text\n",
    "        desc = episode.find('div', class_='item_description').text.strip()\n",
    "        votes = episode.find('span', class_='ipl-rating-star__total-votes').text\n",
    "        \n",
    "        episode_data = [season, episode_number, title, desc, airdate, rating, votes]\n",
    "        friends_episodes.append(episode_data)"
   ]
  },
  {
   "cell_type": "code",
   "execution_count": 4,
   "metadata": {},
   "outputs": [],
   "source": [
    "import pandas as pd"
   ]
  },
  {
   "cell_type": "code",
   "execution_count": 12,
   "metadata": {},
   "outputs": [],
   "source": [
    "friends_episodes = pd.DataFrame(friends_episodes, columns = ['season', 'episode_number', 'title', 'desc', 'airdate', 'rating', 'votes'])"
   ]
  },
  {
   "cell_type": "code",
   "execution_count": 8,
   "metadata": {},
   "outputs": [
    {
     "data": {
      "text/html": [
       "<div>\n",
       "<style scoped>\n",
       "    .dataframe tbody tr th:only-of-type {\n",
       "        vertical-align: middle;\n",
       "    }\n",
       "\n",
       "    .dataframe tbody tr th {\n",
       "        vertical-align: top;\n",
       "    }\n",
       "\n",
       "    .dataframe thead th {\n",
       "        text-align: right;\n",
       "    }\n",
       "</style>\n",
       "<table border=\"1\" class=\"dataframe\">\n",
       "  <thead>\n",
       "    <tr style=\"text-align: right;\">\n",
       "      <th></th>\n",
       "      <th>season</th>\n",
       "      <th>episode_number</th>\n",
       "      <th>title</th>\n",
       "      <th>desc</th>\n",
       "      <th>airdate</th>\n",
       "      <th>rating</th>\n",
       "      <th>votes</th>\n",
       "    </tr>\n",
       "  </thead>\n",
       "  <tbody>\n",
       "    <tr>\n",
       "      <th>0</th>\n",
       "      <td>1</td>\n",
       "      <td>1</td>\n",
       "      <td>The One Where Monica Gets a Roommate</td>\n",
       "      <td>Monica and the gang introduce Rachel to the \"r...</td>\n",
       "      <td>31 Mar. 2019</td>\n",
       "      <td>8.3</td>\n",
       "      <td>(7,330)</td>\n",
       "    </tr>\n",
       "    <tr>\n",
       "      <th>1</th>\n",
       "      <td>1</td>\n",
       "      <td>2</td>\n",
       "      <td>The One with the Sonogram at the End</td>\n",
       "      <td>Ross finds out his ex-wife is pregnant. Rachel...</td>\n",
       "      <td>29 Sep. 1994</td>\n",
       "      <td>8.0</td>\n",
       "      <td>(5,540)</td>\n",
       "    </tr>\n",
       "    <tr>\n",
       "      <th>2</th>\n",
       "      <td>1</td>\n",
       "      <td>3</td>\n",
       "      <td>The One with the Thumb</td>\n",
       "      <td>Monica becomes irritated when everyone likes h...</td>\n",
       "      <td>6 Oct. 1994</td>\n",
       "      <td>8.2</td>\n",
       "      <td>(5,224)</td>\n",
       "    </tr>\n",
       "    <tr>\n",
       "      <th>3</th>\n",
       "      <td>1</td>\n",
       "      <td>4</td>\n",
       "      <td>The One with George Stephanopoulos</td>\n",
       "      <td>Joey and Chandler take Ross to a hockey game t...</td>\n",
       "      <td>13 Oct. 1994</td>\n",
       "      <td>8.1</td>\n",
       "      <td>(5,063)</td>\n",
       "    </tr>\n",
       "    <tr>\n",
       "      <th>4</th>\n",
       "      <td>1</td>\n",
       "      <td>5</td>\n",
       "      <td>The One with the East German Laundry Detergent</td>\n",
       "      <td>Eager to spend time with Rachel, Ross pretends...</td>\n",
       "      <td>20 Oct. 1994</td>\n",
       "      <td>8.5</td>\n",
       "      <td>(5,034)</td>\n",
       "    </tr>\n",
       "  </tbody>\n",
       "</table>\n",
       "</div>"
      ],
      "text/plain": [
       "   season episode_number                                           title  \\\n",
       "0       1              1            The One Where Monica Gets a Roommate   \n",
       "1       1              2            The One with the Sonogram at the End   \n",
       "2       1              3                          The One with the Thumb   \n",
       "3       1              4              The One with George Stephanopoulos   \n",
       "4       1              5  The One with the East German Laundry Detergent   \n",
       "\n",
       "                                                desc       airdate rating  \\\n",
       "0  Monica and the gang introduce Rachel to the \"r...  31 Mar. 2019    8.3   \n",
       "1  Ross finds out his ex-wife is pregnant. Rachel...  29 Sep. 1994    8.0   \n",
       "2  Monica becomes irritated when everyone likes h...   6 Oct. 1994    8.2   \n",
       "3  Joey and Chandler take Ross to a hockey game t...  13 Oct. 1994    8.1   \n",
       "4  Eager to spend time with Rachel, Ross pretends...  20 Oct. 1994    8.5   \n",
       "\n",
       "     votes  \n",
       "0  (7,330)  \n",
       "1  (5,540)  \n",
       "2  (5,224)  \n",
       "3  (5,063)  \n",
       "4  (5,034)  "
      ]
     },
     "execution_count": 8,
     "metadata": {},
     "output_type": "execute_result"
    }
   ],
   "source": [
    "friends_episodes.head()"
   ]
  },
  {
   "cell_type": "code",
   "execution_count": 13,
   "metadata": {},
   "outputs": [],
   "source": [
    "friends_episodes.to_csv('Friends_episodes_imdb_ratings.csv', index = False)"
   ]
  },
  {
   "cell_type": "code",
   "execution_count": null,
   "metadata": {},
   "outputs": [],
   "source": []
  }
 ],
 "metadata": {
  "kernelspec": {
   "display_name": "Python 3",
   "language": "python",
   "name": "python3"
  },
  "language_info": {
   "codemirror_mode": {
    "name": "ipython",
    "version": 3
   },
   "file_extension": ".py",
   "mimetype": "text/x-python",
   "name": "python",
   "nbconvert_exporter": "python",
   "pygments_lexer": "ipython3",
   "version": "3.8.7"
  }
 },
 "nbformat": 4,
 "nbformat_minor": 4
}
